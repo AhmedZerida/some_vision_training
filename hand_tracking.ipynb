{
 "cells": [
  {
   "cell_type": "code",
   "execution_count": 3,
   "id": "bb24ec99",
   "metadata": {},
   "outputs": [],
   "source": [
    "import cv2  as cv\n",
    "import mediapipe as mp\n",
    "import time\n",
    "\n",
    "\n"
   ]
  },
  {
   "cell_type": "code",
   "execution_count": 4,
   "id": "bdedec57",
   "metadata": {
    "scrolled": true
   },
   "outputs": [],
   "source": [
    "cap= cv.VideoCapture(0)\n",
    "\n",
    "mphands=mp.solutions.hands\n",
    "hands=mphands.Hands()\n",
    "mpdraw=mp.solutions.drawing_utils\n",
    "\n",
    "ptime=0\n",
    "ctime=0\n",
    "\n",
    "while True :\n",
    "    success ,img = cap.read()\n",
    "    imgrgb=cv.cvtColor(img,cv.COLOR_BGR2RGB)\n",
    "    results=hands.process(imgrgb)\n",
    "    if results.multi_hand_landmarks:\n",
    "        for handlms in results.multi_hand_landmarks:\n",
    "            for i_d , lm in enumerate(handlms.landmark):\n",
    "                h,w,c=img.shape\n",
    "                 \n",
    "                cx,cy=int(lm.x*w),int(lm.y*h)   #position\n",
    "                \n",
    "#                 if i_d ==4:\n",
    "                cv.circle(img,(cx,cy),12,(255,0,255),cv.FILLED)\n",
    "        \n",
    "\n",
    "                \n",
    "                \n",
    "            mpdraw.draw_landmarks(img,handlms,mphands.HAND_CONNECTIONS)\n",
    "            \n",
    "        \n",
    "    \n",
    "    ctime=time.time()\n",
    "    fps=1/(ctime-ptime)\n",
    "    ptime=ctime\n",
    "    \n",
    "    cv.putText(img,str(int(fps)),(10,70),cv.FONT_HERSHEY_PLAIN,3,\n",
    "                       (255,0,255), 3)\n",
    "               \n",
    "               \n",
    "    cv.imshow(\"img\",img)\n",
    "    cv.waitKey(1)\n",
    "    \n",
    "       \n",
    "\n",
    "\n",
    "    \n",
    "    if cv.waitKey(33) == ord('q'):\n",
    "        break\n",
    "        \n",
    "cap.release()\n",
    "cv.destroyAllWindows()\n",
    "\n",
    "\n",
    "    "
   ]
  },
  {
   "cell_type": "code",
   "execution_count": 7,
   "id": "6fe8e464",
   "metadata": {},
   "outputs": [],
   "source": [
    " "
   ]
  },
  {
   "cell_type": "code",
   "execution_count": null,
   "id": "38cadeed",
   "metadata": {},
   "outputs": [],
   "source": []
  }
 ],
 "metadata": {
  "kernelspec": {
   "display_name": "Python 3",
   "language": "python",
   "name": "python3"
  },
  "language_info": {
   "codemirror_mode": {
    "name": "ipython",
    "version": 3
   },
   "file_extension": ".py",
   "mimetype": "text/x-python",
   "name": "python",
   "nbconvert_exporter": "python",
   "pygments_lexer": "ipython3",
   "version": "3.8.8"
  }
 },
 "nbformat": 4,
 "nbformat_minor": 5
}
