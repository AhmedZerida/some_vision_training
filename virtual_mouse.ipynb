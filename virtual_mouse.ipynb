{
 "cells": [
  {
   "cell_type": "code",
   "execution_count": 18,
   "id": "3bafc1e2",
   "metadata": {},
   "outputs": [],
   "source": [
    "import cv2 as cv\n",
    "import pyautogui as pg\n",
    "import mediapipe as mp"
   ]
  },
  {
   "cell_type": "code",
   "execution_count": 20,
   "id": "a7b666d3",
   "metadata": {},
   "outputs": [],
   "source": [
    "cap= cv.VideoCapture(0)\n",
    "\n",
    "hand_det=mp.solutions.hands.Hands()\n",
    "draw= mp.solutions.drawing_utils\n",
    "screen_width,screen_hight=pg.size()\n",
    "index_y=0\n",
    "ff_y=0\n",
    "\n",
    "\n",
    "while True :\n",
    "    success ,frame= cap.read()\n",
    "    frame=cv.flip(frame,1)\n",
    "    frame_hight,frame_width , _ =frame.shape\n",
    "    rgb_frame=cv.cvtColor(frame,cv.COLOR_BGR2RGB)\n",
    "    output=hand_det.process(rgb_frame)\n",
    "    hands=output.multi_hand_landmarks\n",
    "    \n",
    "    if hands:\n",
    "        for hand in hands:\n",
    "            draw.draw_landmarks(frame,hand)\n",
    "            \n",
    "            landmarks=hand.landmark\n",
    "            \n",
    "            for i_d,landmark in enumerate(landmarks):\n",
    "                x=int(landmark.x*frame_width)\n",
    "                y=int(landmark.y*frame_hight)\n",
    "                \n",
    "                if i_d == 8 :\n",
    "                    cv.circle(frame,(x,y),13,(0,255,255))\n",
    "                    index_x=screen_width/frame_width*x\n",
    "                    index_y=screen_hight/frame_hight*y\n",
    "                    pg.moveTo(index_x,index_y)\n",
    "               \n",
    "                if i_d == 12 :\n",
    "                    cv.circle(frame,(x,y),13,(0,255,255))\n",
    "                    ff_x=screen_width/frame_width*x\n",
    "                    ff_y=screen_hight/frame_hight*y\n",
    "                \n",
    "                \n",
    "                if i_d == 4:\n",
    "                    cv.circle(frame,(x,y),10,(0,255,255))\n",
    "                    f_x=screen_width/frame_width*x\n",
    "                    f_y=screen_hight/frame_hight*y\n",
    "                    \n",
    "                    if abs(ff_y - f_y)<150:\n",
    "                        pg.click()\n",
    "                        pg.sleep(1)\n",
    "                        \n",
    "                    \n",
    "                \n",
    "            \n",
    "    \n",
    "               \n",
    "    cv.imshow(\"frame\",frame)\n",
    "    cv.waitKey(1)\n",
    "    \n",
    "       \n",
    "\n",
    "\n",
    "    \n",
    "    if cv.waitKey(33) == ord('q'):\n",
    "        break\n",
    "        \n",
    "cap.release()\n",
    "cv.destroyAllWindows()\n",
    "\n",
    "\n",
    "    "
   ]
  },
  {
   "cell_type": "code",
   "execution_count": null,
   "id": "36211f2d",
   "metadata": {},
   "outputs": [],
   "source": []
  },
  {
   "cell_type": "code",
   "execution_count": null,
   "id": "d894530e",
   "metadata": {},
   "outputs": [],
   "source": []
  },
  {
   "cell_type": "code",
   "execution_count": null,
   "id": "e2bc9681",
   "metadata": {},
   "outputs": [],
   "source": []
  },
  {
   "cell_type": "code",
   "execution_count": null,
   "id": "3c95cad3",
   "metadata": {},
   "outputs": [],
   "source": []
  }
 ],
 "metadata": {
  "kernelspec": {
   "display_name": "Python 3",
   "language": "python",
   "name": "python3"
  },
  "language_info": {
   "codemirror_mode": {
    "name": "ipython",
    "version": 3
   },
   "file_extension": ".py",
   "mimetype": "text/x-python",
   "name": "python",
   "nbconvert_exporter": "python",
   "pygments_lexer": "ipython3",
   "version": "3.8.8"
  }
 },
 "nbformat": 4,
 "nbformat_minor": 5
}
