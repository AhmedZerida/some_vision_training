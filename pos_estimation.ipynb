{
 "cells": [
  {
   "cell_type": "code",
   "execution_count": 1,
   "id": "800046fc",
   "metadata": {},
   "outputs": [],
   "source": [
    "import cv2 as cv\n",
    "import mediapipe as mp\n",
    "import time\n"
   ]
  },
  {
   "cell_type": "code",
   "execution_count": 2,
   "id": "8f1c353d",
   "metadata": {},
   "outputs": [],
   "source": [
    "cap=cv.VideoCapture(\" Y2Mate.is - Lifestyle stock footage of Man running against silhouetted mountain-vWGg0iPmI8k-1080p-1655958979234.mp4\")\n",
    "mpdraw=mp.solutions.drawing_utils\n",
    "mppose=mp.solutions.pose\n",
    "pose=mppose.Pose()\n",
    "\n",
    "\n",
    "ptime=0\n",
    "ctime=0\n",
    "\n",
    "while True:\n",
    "    \n",
    "    scuccess ,img = cap.read()\n",
    "    \n",
    "\n",
    "    \n",
    "    imgrgb=cv.cvtColor(img,cv.COLOR_BGR2RGB)\n",
    "    \n",
    "     \n",
    "    \n",
    "    \n",
    "    results=pose.process(imgrgb)\n",
    "    \n",
    "    if results.pose_landmarks:\n",
    "        mpdraw.draw_landmarks(img,results.pose_landmarks,mppose.POSE_CONNECTIONS)\n",
    "        \n",
    "        for i_d,lm in enumerate(results.pose_landmarks.landmark):\n",
    "            h,w,c=img.shape\n",
    "            \n",
    "            cx,cy=int(lm.x*w),int(lm.y*h)\n",
    "            cv.circle(img,(cx,cy),12,(255,0,0),cv.FILLED)\n",
    "        \n",
    "\n",
    "    \n",
    "    \n",
    "    \n",
    "    \n",
    "    ctime=time.time()\n",
    "    fps=1/(ctime-ptime)\n",
    "    ptime=ctime\n",
    "    \n",
    "    cv.putText(img,str(int(fps)),(10,70),cv.FONT_HERSHEY_PLAIN,3,\n",
    "                       (255,0,255), 3)\n",
    "               \n",
    "               \n",
    "    cv.imshow(\"img\",img)\n",
    "    cv.waitKey(1)\n",
    "    \n",
    "    \n",
    "    \n",
    "    \n",
    "      \n",
    "    if cv.waitKey(33) == ord('q'):\n",
    "        break\n",
    "        \n",
    "cap.release()\n",
    "cv.destroyAllWindows()\n",
    "\n"
   ]
  },
  {
   "cell_type": "code",
   "execution_count": null,
   "id": "1f1765b0",
   "metadata": {},
   "outputs": [],
   "source": []
  }
 ],
 "metadata": {
  "kernelspec": {
   "display_name": "Python 3",
   "language": "python",
   "name": "python3"
  },
  "language_info": {
   "codemirror_mode": {
    "name": "ipython",
    "version": 3
   },
   "file_extension": ".py",
   "mimetype": "text/x-python",
   "name": "python",
   "nbconvert_exporter": "python",
   "pygments_lexer": "ipython3",
   "version": "3.8.8"
  }
 },
 "nbformat": 4,
 "nbformat_minor": 5
}
